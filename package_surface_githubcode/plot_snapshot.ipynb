{
 "cells": [
  {
   "cell_type": "code",
   "execution_count": null,
   "metadata": {},
   "outputs": [],
   "source": [
    "import numpy as np\n",
    "import matplotlib.pyplot as plt\n",
    "from matplotlib import cm"
   ]
  },
  {
   "cell_type": "code",
   "execution_count": null,
   "metadata": {},
   "outputs": [],
   "source": [
    "def plot_wavefield(wavefieldfield, coordinatefile,filetosave):\n",
    "    wavefield=np.loadtxt(wavefieldfile)\n",
    "    coordinate=np.loadtxt(coordinatefile)\n",
    "    from scipy.interpolate import griddata\n",
    "    x_show=np.arange(coordinate.T[0].min(),coordinate.T[0].max(),10000)\n",
    "    y_show=np.arange(coordinate.T[1].min(),0,10000)\n",
    "    M,P=np.meshgrid(x_show,y_show)\n",
    "    data=griddata((coordinate.T[0],coordinate.T[1]),wavefield.T[0],(M,P),method='linear')\n",
    "    plt.figure(figsize=[10, 8])\n",
    "    plt.imshow(data, animated=True, cmap=cm.seismic_r, interpolation='bicubic', vmin=-2e-15, vmax=2e-15,extent=[0,45*111,0,1000])\n",
    "   # anomaly_top=-500/dz\n",
    "   # anomaly_bottom=-660/dz\n",
    "   # anomaly_left=18*111/dx\n",
    "   # anomaly_right=25*111/dx\n",
    "    plt.plot([18*111,25*111,25*111,18*111,18*111],[500,500,660,660,500],'black')\n",
    "    plt.xlabel('X [km]')\n",
    "    plt.ylabel('Y [km]')\n",
    "    plt.xlim(300,45*111-300)\n",
    "    plt.ylim(0,1000)\n",
    "    plt.gca().invert_yaxis()\n",
    "    plt.savefig(filetosave)"
   ]
  },
  {
   "cell_type": "code",
   "execution_count": null,
   "metadata": {},
   "outputs": [],
   "source": [
    "wavefieldfile='EVENT1/REF_SEM/wavefield0005500_01.txt'\n",
    "coordinatefile='EVENT1/REF_SEM/wavefield_grid_for_dumps.txt'\n",
    "filestosave='wavefield1.png'\n",
    "plot_wavefield(wavefieldfile, coordinatefile,filestosave)"
   ]
  },
  {
   "cell_type": "code",
   "execution_count": null,
   "metadata": {},
   "outputs": [],
   "source": [
    "wavefieldfile='EVENT1/OUTPUT_FILES/wavefield0006500_01.txt'\n",
    "coordinatefile='EVENT1/OUTPUT_FILES/wavefield_grid_for_dumps.txt'\n",
    "filestosave='wavefield2.png'\n",
    "plot_wavefield(wavefieldfile, coordinatefile,filestosave)"
   ]
  },
  {
   "cell_type": "code",
   "execution_count": null,
   "metadata": {},
   "outputs": [],
   "source": [
    "wavefieldfile='EVENT1/OUTPUT_FILES/wavefield0007500_01.txt'\n",
    "coordinatefile='EVENT1/OUTPUT_FILES/wavefield_grid_for_dumps.txt'\n",
    "filestosave='wavefield3.png'\n",
    "plot_wavefield(wavefieldfile, coordinatefile,filestosave)"
   ]
  },
  {
   "cell_type": "code",
   "execution_count": null,
   "metadata": {},
   "outputs": [],
   "source": [
    "wavefieldfile='EVENT1/OUTPUT_FILES/wavefield0008500_01.txt'\n",
    "coordinatefile='EVENT1/OUTPUT_FILES/wavefield_grid_for_dumps.txt'\n",
    "filestosave='wavefield4.png'\n",
    "plot_wavefield(wavefieldfile, coordinatefile,filestosave)"
   ]
  },
  {
   "cell_type": "code",
   "execution_count": null,
   "metadata": {},
   "outputs": [],
   "source": [
    "wavefieldfile='EVENT1/OUTPUT_FILES/wavefield0009500_01.txt'\n",
    "coordinatefile='EVENT1/OUTPUT_FILES/wavefield_grid_for_dumps.txt'\n",
    "filestosave='wavefield5.png'\n",
    "plot_wavefield(wavefieldfile, coordinatefile,filestosave)"
   ]
  },
  {
   "cell_type": "code",
   "execution_count": null,
   "metadata": {},
   "outputs": [],
   "source": [
    "wavefieldfile='EVENT1/OUTPUT_FILES/wavefield0009500_01.txt'\n",
    "coordinatefile='EVENT1/OUTPUT_FILES/wavefield_grid_for_dumps.txt'\n",
    "filestosave='wavefield5.png'\n",
    "plot_wavefield(wavefieldfile, coordinatefile,filestosave)"
   ]
  },
  {
   "cell_type": "code",
   "execution_count": null,
   "metadata": {},
   "outputs": [],
   "source": [
    "wavefieldfile='EVENT1/REF_SEM_SYN/wavefield0005500_01.txt'\n",
    "coordinatefile='EVENT1/REF_SEM_SYN/wavefield_grid_for_dumps.txt'\n",
    "filestosave='wavefield1_normal.png'\n",
    "plot_wavefield(wavefieldfile, coordinatefile,filestosave)"
   ]
  },
  {
   "cell_type": "code",
   "execution_count": null,
   "metadata": {},
   "outputs": [],
   "source": [
    "def plot_wavefield_list(wavefieldfieldlist,coordinatefile,filetosave):\n",
    "    \n",
    "    receiver_x=np.linspace(555,4440,60)\n",
    "    receiver_z=1e-3*np.zeros(60)\n",
    "    length=len(wavefieldfieldlist)\n",
    "    plt.figure(figsize=[10, 12])\n",
    "    fig, axes = plt.subplots(nrows=length, ncols=1,figsize=(10,10))\n",
    "    i=0\n",
    "    for ax in axes.flat:\n",
    "    #for _i,name in enumerate(wavefieldfieldlist):\n",
    "        wavefield=np.loadtxt(wavefieldlist[i])\n",
    "        coordinate=np.loadtxt(coordinatefile)\n",
    "        from scipy.interpolate import griddata\n",
    "        x_show=np.arange(coordinate.T[0].min(),coordinate.T[0].max(),10000)\n",
    "        y_show=np.arange(coordinate.T[1].min(),0,10000)\n",
    "        M,P=np.meshgrid(x_show,y_show)\n",
    "        data=griddata((coordinate.T[0],coordinate.T[1]),wavefield.T[0],(M,P),method='linear')\n",
    "        #plt.subplot(length,1,_i+1)\n",
    "        im = ax.imshow(data, animated=True, cmap=cm.seismic_r, interpolation='bicubic', vmin=-2e-15, vmax=2e-15,extent=[0,45*111,0,1000])\n",
    "        #ax.gca().invert_yaxis()\n",
    "        ax.plot([18*111,25*111,25*111,18*111,18*111],[500,500,660,660,500],'black')\n",
    "        ax.plot(1110,121,'o',color='black')\n",
    "        ax.plot(receiver_x,receiver_z, 'vk')\n",
    "        ax.set_xlabel('X [km]')\n",
    "        ax.set_ylabel('Y [km]')\n",
    "        ax.set_xlim(300,45*111-300)\n",
    "        ax.set_ylim(0,1000)\n",
    "        i=i+1\n",
    "        ax.invert_yaxis()\n",
    "        #plt.colorbar( orientation='horizontal',label='Velocity field (km/s)')\n",
    "    fig.colorbar(im, shrink=0.5, ax=axes.ravel().tolist())\n",
    "    plt.savefig(filetosave)"
   ]
  },
  {
   "cell_type": "code",
   "execution_count": null,
   "metadata": {},
   "outputs": [],
   "source": [
    "wavefieldlist=['EVENT1/REF_SEM/wavefield0005500_01.txt',\\\n",
    "               'EVENT1/REF_SEM/wavefield0006500_01.txt',\\\n",
    "               'EVENT1/REF_SEM/wavefield0007500_01.txt',\\\n",
    "               'EVENT1/REF_SEM/wavefield0008500_01.txt',\\\n",
    "              'EVENT1/REF_SEM/wavefield0009500_01.txt']\n",
    "coordinatefile='EVENT1/REF_SEM_SYN/wavefield_grid_for_dumps.txt'"
   ]
  },
  {
   "cell_type": "code",
   "execution_count": null,
   "metadata": {},
   "outputs": [],
   "source": [
    "plot_wavefield_list(wavefieldlist,coordinatefile,'wavefield_anomaly.pdf')"
   ]
  },
  {
   "cell_type": "code",
   "execution_count": null,
   "metadata": {},
   "outputs": [],
   "source": [
    "plot_wavefield_list(wavefieldlist,coordinatefile,'wavefield_anomaly.pdf')"
   ]
  },
  {
   "cell_type": "code",
   "execution_count": null,
   "metadata": {},
   "outputs": [],
   "source": [
    "wavefieldlist=['EVENT1/REF_SEM_SYN/wavefield0005500_01.txt',\\\n",
    "                    'EVENT1/REF_SEM_SYN/wavefield0006500_01.txt',\\\n",
    "                    'EVENT1/REF_SEM_SYN/wavefield0007500_01.txt',\\\n",
    "                    'EVENT1/REF_SEM_SYN/wavefield0008500_01.txt',\\\n",
    "                    'EVENT1/REF_SEM_SYN/wavefield0009500_01.txt']\n",
    "coordinatefile='EVENT1/REF_SEM_SYN/wavefield_grid_for_dumps.txt'"
   ]
  },
  {
   "cell_type": "code",
   "execution_count": null,
   "metadata": {},
   "outputs": [],
   "source": [
    "plot_wavefield_list(wavefieldlist,coordinatefile,'wavefield_normal.pdf')"
   ]
  },
  {
   "cell_type": "code",
   "execution_count": null,
   "metadata": {},
   "outputs": [],
   "source": [
    "wavefieldlist=['EVENT1/REF_SEM_smooth/wavefield0005500_01.txt',\\\n",
    "                    'EVENT1/REF_SEM_smooth/wavefield0006500_01.txt',\\\n",
    "                    'EVENT1/REF_SEM_smooth/wavefield0007500_01.txt',\\\n",
    "                    'EVENT1/REF_SEM_smooth/wavefield0008500_01.txt',\\\n",
    "                    'EVENT1/REF_SEM_smooth/wavefield0009500_01.txt']\n",
    "coordinatefile='EVENT1/REF_SEM_SYN/wavefield_grid_for_dumps.txt'"
   ]
  },
  {
   "cell_type": "code",
   "execution_count": null,
   "metadata": {},
   "outputs": [],
   "source": [
    "plot_wavefield_list(wavefieldlist,coordinatefile,'wavefield_smooth.pdf')"
   ]
  },
  {
   "cell_type": "code",
   "execution_count": null,
   "metadata": {},
   "outputs": [],
   "source": []
  },
  {
   "cell_type": "code",
   "execution_count": null,
   "metadata": {},
   "outputs": [],
   "source": []
  },
  {
   "cell_type": "code",
   "execution_count": null,
   "metadata": {},
   "outputs": [],
   "source": []
  },
  {
   "cell_type": "markdown",
   "metadata": {},
   "source": [
    "# plot waveforms"
   ]
  },
  {
   "cell_type": "code",
   "execution_count": null,
   "metadata": {},
   "outputs": [],
   "source": [
    "import glob"
   ]
  },
  {
   "cell_type": "code",
   "execution_count": null,
   "metadata": {},
   "outputs": [],
   "source": [
    "list_receiver_anomaly=glob.glob('EVENT1/REF_SEM/*BXZ.semd')\n",
    "list_receiver_anomaly.sort()\n",
    "list_receiver_normal=glob.glob('EVENT1/REF_SEM_SYN/*BXZ.semd')\n",
    "list_receiver_normal.sort()"
   ]
  },
  {
   "cell_type": "code",
   "execution_count": null,
   "metadata": {},
   "outputs": [],
   "source": []
  },
  {
   "cell_type": "code",
   "execution_count": null,
   "metadata": {},
   "outputs": [],
   "source": [
    "def readwaveform(file):\n",
    "    data=np.loadtxt(file)\n",
    "    time=data.T[0]\n",
    "    waveform=data.T[1]\n",
    "    return time,waveform"
   ]
  },
  {
   "cell_type": "code",
   "execution_count": null,
   "metadata": {},
   "outputs": [],
   "source": [
    "time, waveform=readwaveform(list_receiver_anomaly[0])\n",
    "plt.plot(time, waveform)"
   ]
  },
  {
   "cell_type": "code",
   "execution_count": null,
   "metadata": {},
   "outputs": [],
   "source": [
    "plt.figure(figsize=(10, 10))\n",
    "receiver_x=np.linspace(555,4440,60)\n",
    "src_x=1110\n",
    "plt.subplot(121)\n",
    "for _i, station in enumerate(list_receiver_anomaly):\n",
    "    print(station)\n",
    "    time, waveform=readwaveform(list_receiver_anomaly[_i])\n",
    "    time, waveform2=readwaveform(list_receiver_normal[_i])\n",
    "    plt.plot(time-_i*5, waveform/waveform.max()+_i,'blue', linewidth=0.5)\n",
    "    plt.plot(time-_i*5, waveform2/waveform2.max()+_i,'red',linewidth=0.5)\n",
    "    if _i > 30:\n",
    "        plt.text(10,_i, \"{:0.2f}°\".format((receiver_x[_i]-src_x)/111), fontsize=6)\n",
    "    plt.xlim(0,150)\n",
    "    plt.xlabel('T-id*5 (s)')\n",
    "    plt.ylabel('station id')\n",
    "    plt.ylim(30,60)\n",
    "plt.text(55,59.5, 'P')\n",
    "plt.text(84,59.5, 'pP')\n",
    "plt.text(102,59.5, 'sP?')\n",
    "    \n",
    "plt.subplot(122)\n",
    "for _i, station in enumerate(list_receiver_anomaly):\n",
    "    print(station)\n",
    "    time, waveform=readwaveform(list_receiver_anomaly[_i])\n",
    "    time, waveform2=readwaveform(list_receiver_normal[_i])\n",
    "    plt.plot(time-_i*10, waveform/waveform.max()+_i,'blue', linewidth=0.5)\n",
    "    plt.plot(time-_i*10, waveform2/waveform2.max()+_i,'red',linewidth=0.5)\n",
    "    if _i > 30:\n",
    "        plt.text(10,_i, \"{:0.2f}°\".format((receiver_x[_i]-src_x)/111), fontsize=6)\n",
    "        plt.xlabel('T-id*10 (s)')\n",
    "    plt.ylabel('station id')\n",
    "    plt.xlim(0,150)\n",
    "    plt.ylim(30,60)\n",
    "plt.text(40,59.5, 'S')\n",
    "#plt.text(60,59.5, 'pS')\n",
    "plt.text(110,59.5, 'sS?')\n",
    "    \n",
    "plt.savefig('waveform.pdf')"
   ]
  },
  {
   "cell_type": "code",
   "execution_count": null,
   "metadata": {},
   "outputs": [],
   "source": [
    "import glob\n",
    "list_receiver_anomaly=glob.glob('EVENT1/REF_SEM/*BXZ.semd')\n",
    "list_receiver_anomaly.sort()\n",
    "list_receiver_normal=glob.glob('EVENT1/REF_SEM_smooth/*BXZ.semd')\n",
    "list_receiver_normal.sort()"
   ]
  },
  {
   "cell_type": "code",
   "execution_count": null,
   "metadata": {},
   "outputs": [],
   "source": [
    "plt.figure(figsize=(10, 10))\n",
    "receiver_x=np.linspace(555,4440,60)\n",
    "src_x=1110\n",
    "plt.subplot(121)\n",
    "for _i, station in enumerate(list_receiver_anomaly):\n",
    "    print(station)\n",
    "    time, waveform=readwaveform(list_receiver_anomaly[_i])\n",
    "    time, waveform2=readwaveform(list_receiver_normal[_i])\n",
    "    plt.plot(time-_i*5, waveform/waveform.max()+_i,'blue', linewidth=0.5)\n",
    "    plt.plot(time-_i*5, waveform2/waveform2.max()+_i,'red',linewidth=0.5)\n",
    "    if _i > 30:\n",
    "        plt.text(10,_i, \"{:0.2f}°\".format((receiver_x[_i]-src_x)/111), fontsize=6)\n",
    "    plt.xlim(0,150)\n",
    "    plt.xlabel('T-id*5 (s)')\n",
    "    plt.ylabel('station id')\n",
    "    plt.ylim(30,60)\n",
    "plt.text(55,59.5, 'P')\n",
    "plt.text(84,59.5, 'pP')\n",
    "plt.text(102,59.5, 'sP?')\n",
    "    \n",
    "plt.subplot(122)\n",
    "for _i, station in enumerate(list_receiver_anomaly):\n",
    "    print(station)\n",
    "    time, waveform=readwaveform(list_receiver_anomaly[_i])\n",
    "    time, waveform2=readwaveform(list_receiver_normal[_i])\n",
    "    plt.plot(time-_i*10, waveform/waveform.max()+_i,'blue', linewidth=0.5)\n",
    "    plt.plot(time-_i*10, waveform2/waveform2.max()+_i,'red',linewidth=0.5)\n",
    "    if _i > 30:\n",
    "        plt.text(10,_i, \"{:0.2f}°\".format((receiver_x[_i]-src_x)/111), fontsize=6)\n",
    "        plt.xlabel('T-id*10 (s)')\n",
    "    plt.ylabel('station id')\n",
    "    plt.xlim(0,150)\n",
    "    plt.ylim(30,60)\n",
    "plt.text(40,59.5, 'S')\n",
    "#plt.text(60,59.5, 'pS')\n",
    "plt.text(110,59.5, 'sS?')\n",
    "    \n",
    "plt.savefig('waveform_smooth.pdf')"
   ]
  },
  {
   "cell_type": "code",
   "execution_count": null,
   "metadata": {},
   "outputs": [],
   "source": [
    "import glob\n",
    "list_receiver_anomaly=glob.glob('EVENT1/REF_SEM_smooth/*BXZ.semd')\n",
    "list_receiver_anomaly.sort()\n",
    "list_receiver_normal=glob.glob('EVENT1/REF_SEM_SYN/*BXZ.semd')\n",
    "list_receiver_normal.sort()"
   ]
  },
  {
   "cell_type": "code",
   "execution_count": null,
   "metadata": {
    "scrolled": true
   },
   "outputs": [],
   "source": [
    "list_receiver_normal"
   ]
  },
  {
   "cell_type": "code",
   "execution_count": null,
   "metadata": {},
   "outputs": [],
   "source": [
    "plt.figure(figsize=(10, 10))\n",
    "receiver_x=np.linspace(555,4440,60)\n",
    "src_x=1110\n",
    "plt.subplot(121)\n",
    "for _i, station in enumerate(list_receiver_anomaly):\n",
    "    print(station)\n",
    "    time, waveform=readwaveform(list_receiver_anomaly[_i])\n",
    "    time, waveform2=readwaveform(list_receiver_normal[_i])\n",
    "    plt.plot(time-_i*5, waveform/waveform.max()+_i,'blue', linewidth=0.5)\n",
    "    plt.plot(time-_i*5, waveform2/waveform2.max()+_i,'red',linewidth=0.5)\n",
    "    if _i > 30:\n",
    "        plt.text(10,_i, \"{:0.2f}°\".format((receiver_x[_i]-src_x)/111), fontsize=6)\n",
    "    plt.xlim(0,150)\n",
    "    plt.xlabel('T-id*5 (s)')\n",
    "    plt.ylabel('station id')\n",
    "    plt.ylim(30,60)\n",
    "plt.text(55,59.5, 'P')\n",
    "plt.text(84,59.5, 'pP')\n",
    "plt.text(102,59.5, 'sP?')\n",
    "    \n",
    "plt.subplot(122)\n",
    "for _i, station in enumerate(list_receiver_anomaly):\n",
    "    print(station)\n",
    "    time, waveform=readwaveform(list_receiver_anomaly[_i])\n",
    "    time, waveform2=readwaveform(list_receiver_normal[_i])\n",
    "    plt.plot(time-_i*10, waveform/waveform.max()+_i,'blue', linewidth=0.5)\n",
    "    plt.plot(time-_i*10, waveform2/waveform2.max()+_i,'red',linewidth=0.5)\n",
    "    if _i > 30:\n",
    "        plt.text(10,_i, \"{:0.2f}°\".format((receiver_x[_i]-src_x)/111), fontsize=6)\n",
    "        plt.xlabel('T-id*10 (s)')\n",
    "    plt.ylabel('station id')\n",
    "    plt.xlim(0,150)\n",
    "    plt.ylim(30,60)\n",
    "plt.text(40,59.5, 'S')\n",
    "#plt.text(60,59.5, 'pS')\n",
    "plt.text(110,59.5, 'sS?')\n",
    "    \n",
    "plt.savefig('waveform_smooth_normal.pdf')"
   ]
  },
  {
   "cell_type": "markdown",
   "metadata": {},
   "source": [
    "# plot comparison of the misfit and adjoint sources. "
   ]
  },
  {
   "cell_type": "code",
   "execution_count": null,
   "metadata": {},
   "outputs": [],
   "source": [
    "import pyadjoint"
   ]
  },
  {
   "cell_type": "code",
   "execution_count": null,
   "metadata": {},
   "outputs": [],
   "source": [
    "def adj_calculate(dir_run,dir_event,dir_obs,dir_syn,adj_src_type,stationpath):\n",
    "    import obspy\n",
    "    import pyadjoint\n",
    "    import numpy as np\n",
    "    from obspy.taup import TauPyModel\n",
    "    from obspy.core.trace import Trace\n",
    "    ##guarantee to change back to the project directory\n",
    "    os.chdir(dir_run)\n",
    "    os.chdir(dir_event) \n",
    "    ##### read source locations\n",
    "    source_x,source_depth_in_m=read_source('DATA/SOURCE')\n",
    "    ##### read receiver locations\n",
    "    receiver_station,receiver_net,receiver_x,receiver_z=read_receiver('DATA/STATIONS')\n",
    "    import toml\n",
    "    Misfits_all=0.0\n",
    "    fh = open(dir_syn+'misfit.txt','w')\n",
    "    \n",
    "    for i, station_name in enumerate(receiver_station):\n",
    "        #print(i)\n",
    "        #print(np.int(i))\n",
    "        distance=np.abs(receiver_x[i]-source_x)/111.0/1000.0\n",
    "        model = TauPyModel(model=\"iasp91\")\n",
    "        # adapted \n",
    "        arrivals = model.get_travel_times(source_depth_in_km=-source_depth_in_m/1000,distance_in_degree=distance) \n",
    "        time=arrivals[0].time\n",
    "        if time > 400-15:\n",
    "            window=[]\n",
    "        else:\n",
    "            window=[[time-8,time+25]]\n",
    "        print(window)\n",
    "        network=receiver_net[i]\n",
    "        station=receiver_station[i]\n",
    "        data_hetero=np.loadtxt(dir_syn+network+'.'+station+'.BXZ'+'.semd')\n",
    "        data_hetero_new=data_hetero.swapaxes(0,1)\n",
    "    #from obspy.core.trace import Trace\n",
    "        tr=Trace(data=data_hetero_new[1])\n",
    "        tr.stats.delta=0.02  ###here should be adapted to the DATA/Par_file\n",
    "        tr.stats.network = network\n",
    "        tr.stats.station = station\n",
    "        tr.stats.channel = 'BXZ'\n",
    "        data_hetero_obs=np.loadtxt(dir_obs+network+'.'+station+'.BXZ'+'.semd')                           \n",
    "        data_hetero_new_obs=data_hetero_obs.swapaxes(0,1)\n",
    "        tr_obs=Trace(data=data_hetero_new_obs[1])\n",
    "        tr_obs.stats.delta=0.02\n",
    "        tr_obs.stats.network = network\n",
    "        tr_obs.stats.station = station\n",
    "        tr_obs.stats.channel = 'BXZ'\n",
    "        ###here input a minum and maximum period\n",
    "        configure=pyadjoint.config.Config(10,120,measure_type='dt')\n",
    "        print(network, station)\n",
    "        adj=pyadjoint.calculate_adjoint_source(\n",
    "        adj_src_type=adj_src_type, observed=tr_obs, synthetic=tr,min_period=5, max_period=100, config=configure, window=window, plot=True );\n",
    "        Misfits_all+=adj.misfit\n",
    "        #fh.write(network+ ' ' + station+ ' '+ ' ' + str(adj.misfit))\n",
    "        #toml.dump(adj.misfit, fh)\n",
    "        adj.write(filename='SEM/'+network+'.'+station+'.BXZ'+'.adj',format=\"SPECFEM\", time_offset=-12)\n",
    "    fh.write(dir_syn+' ' + dir_event +' ' + str(Misfits_all)+\"\\n\")\n",
    "    fh.close()\n",
    "    os.chdir(dir_run)\n",
    "def read_source(dir_source):\n",
    "    file1 = open(dir_source, 'r')\n",
    "    Lines = file1.readlines()\n",
    "    x=np.float(Lines[2].split('=')[1].split('#')[0])\n",
    "    z=np.float(Lines[3].split('=')[1].split('#')[0])\n",
    "    return x,z\n",
    "def read_receiver(dir_receiver):\n",
    "    import re\n",
    "    file1 = open(dir_receiver, 'r')\n",
    "    Lines = file1.readlines()\n",
    "    number=len(Lines)\n",
    "    receiver_station=[]\n",
    "    receiver_net=[]\n",
    "    receiver_x=np.zeros(number)\n",
    "    receiver_z=np.zeros(number)\n",
    "    for _i, line in enumerate(Lines):\n",
    "        station,network,x,z,nun,nun=re.findall(r'\\S+', line)\n",
    "        #print(station)\n",
    "        receiver_station.append(station)\n",
    "        receiver_net.append(network)\n",
    "        receiver_x[_i]=np.float(x)\n",
    "        receiver_z[_i]=np.float(z)\n",
    "    return receiver_station,receiver_net,receiver_x,receiver_z"
   ]
  },
  {
   "cell_type": "code",
   "execution_count": null,
   "metadata": {},
   "outputs": [],
   "source": [
    "PROJECT='/data2/yjgao/data/DATASET/package_forthesis/'\n",
    "import numpy as np\n",
    "import matplotlib.pyplot as plt\n",
    "import os\n",
    "list_events=['EVENT1']\n",
    "for _i, event in enumerate(list_events):\n",
    "    adj_calculate(PROJECT,event,'REF_SEM/','REF_SEM_SYN/','ccc')"
   ]
  },
  {
   "cell_type": "code",
   "execution_count": null,
   "metadata": {},
   "outputs": [],
   "source": [
    "PROJECT='/data2/yjgao/data/DATASET/package_forthesis/'\n",
    "import numpy as np\n",
    "import matplotlib.pyplot as plt\n",
    "import os\n",
    "list_events=['EVENT1']\n",
    "for _i, event in enumerate(list_events):\n",
    "    adj_calculate(PROJECT,event,'REF_SEM/','REF_SEM_SYN/','waveform_misfit')"
   ]
  },
  {
   "cell_type": "code",
   "execution_count": null,
   "metadata": {},
   "outputs": [],
   "source": [
    "PROJECT='/data2/yjgao/data/DATASET/package_forthesis/'\n",
    "import numpy as np\n",
    "import matplotlib.pyplot as plt\n",
    "import os\n",
    "list_events=['EVENT1']\n",
    "for _i, event in enumerate(list_events):\n",
    "    adj_calculate(PROJECT,event,'REF_SEM/','REF_SEM_SYN/','multitaper_misfit')"
   ]
  },
  {
   "cell_type": "code",
   "execution_count": null,
   "metadata": {
    "scrolled": true
   },
   "outputs": [],
   "source": [
    "PROJECT='/data2/yjgao/data/DATASET/package_forthesis/'\n",
    "import numpy as np\n",
    "import matplotlib.pyplot as plt\n",
    "import os\n",
    "list_events=['EVENT1']\n",
    "for _i, event in enumerate(list_events):\n",
    "    adj_calculate(PROJECT,event,'REF_SEM/','REF_SEM_SYN/','tf_phase_misfit')"
   ]
  },
  {
   "cell_type": "code",
   "execution_count": null,
   "metadata": {},
   "outputs": [],
   "source": [
    "PROJECT='/data2/yjgao/data/DATASET/package_forthesis/'\n",
    "import numpy as np\n",
    "import matplotlib.pyplot as plt\n",
    "import os\n",
    "list_events=['EVENT1']\n",
    "for _i, event in enumerate(list_events):\n",
    "    adj_calculate(PROJECT,event,'REF_SEM/','REF_SEM_SYN/','tf_phase_misfit.py')"
   ]
  },
  {
   "cell_type": "code",
   "execution_count": null,
   "metadata": {},
   "outputs": [],
   "source": [
    "import obspy\n",
    "testtrace=obspy.read()[0]"
   ]
  },
  {
   "cell_type": "code",
   "execution_count": null,
   "metadata": {},
   "outputs": [],
   "source": [
    "testtrace"
   ]
  },
  {
   "cell_type": "code",
   "execution_count": null,
   "metadata": {},
   "outputs": [],
   "source": [
    "from pyadjoint.timefrequency_utils import utils\n",
    "t = testtrace.stats.starttime"
   ]
  },
  {
   "cell_type": "code",
   "execution_count": null,
   "metadata": {},
   "outputs": [],
   "source": [
    "testtrace.plot()"
   ]
  },
  {
   "cell_type": "code",
   "execution_count": null,
   "metadata": {},
   "outputs": [],
   "source": [
    "testtrace1=testtrace.copy()\n",
    "testtrace2=testtrace.copy()"
   ]
  },
  {
   "cell_type": "code",
   "execution_count": null,
   "metadata": {},
   "outputs": [],
   "source": [
    "ttt=utils.window_trace(testtrace1, window=[5,  10],taper=True, taper_ratio=0.15, taper_type=\"cosine\")"
   ]
  },
  {
   "cell_type": "code",
   "execution_count": null,
   "metadata": {},
   "outputs": [],
   "source": [
    "window=[t + 5, t + 10]"
   ]
  },
  {
   "cell_type": "code",
   "execution_count": null,
   "metadata": {},
   "outputs": [],
   "source": [
    "ttt"
   ]
  },
  {
   "cell_type": "code",
   "execution_count": null,
   "metadata": {},
   "outputs": [],
   "source": [
    "ttt.plot()"
   ]
  },
  {
   "cell_type": "code",
   "execution_count": null,
   "metadata": {},
   "outputs": [],
   "source": [
    "ttt2=utils.window_trace(testtrace2, window=[t + 5, t + 10],taper=True, taper_ratio=0.15, taper_type=\"cosine\")\n",
    "ttt2.plot()"
   ]
  },
  {
   "cell_type": "code",
   "execution_count": null,
   "metadata": {},
   "outputs": [],
   "source": []
  }
 ],
 "metadata": {
  "kernelspec": {
   "display_name": "Python 3",
   "language": "python",
   "name": "python3"
  },
  "language_info": {
   "codemirror_mode": {
    "name": "ipython",
    "version": 3
   },
   "file_extension": ".py",
   "mimetype": "text/x-python",
   "name": "python",
   "nbconvert_exporter": "python",
   "pygments_lexer": "ipython3",
   "version": "3.7.8"
  }
 },
 "nbformat": 4,
 "nbformat_minor": 4
}
